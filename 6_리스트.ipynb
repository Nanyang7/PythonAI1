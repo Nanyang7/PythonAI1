{
  "nbformat": 4,
  "nbformat_minor": 0,
  "metadata": {
    "colab": {
      "provenance": [],
      "authorship_tag": "ABX9TyMXu2OlXCn4CcDXDVEtWm22",
      "include_colab_link": true
    },
    "kernelspec": {
      "name": "python3",
      "display_name": "Python 3"
    },
    "language_info": {
      "name": "python"
    }
  },
  "cells": [
    {
      "cell_type": "markdown",
      "metadata": {
        "id": "view-in-github",
        "colab_type": "text"
      },
      "source": [
        "<a href=\"https://colab.research.google.com/github/Nanyang7/PythonAI1/blob/main/6_%EB%A6%AC%EC%8A%A4%ED%8A%B8.ipynb\" target=\"_parent\"><img src=\"https://colab.research.google.com/assets/colab-badge.svg\" alt=\"Open In Colab\"/></a>"
      ]
    },
    {
      "cell_type": "markdown",
      "source": [
        "# **1. 리스트(list)**"
      ],
      "metadata": {
        "id": "8W1cs2nDohAM"
      }
    },
    {
      "cell_type": "markdown",
      "source": [],
      "metadata": {
        "id": "ci8ls0cRoz4B"
      }
    },
    {
      "cell_type": "markdown",
      "source": [
        "- 여러가지 데이터타입의 데이터를 ,(콤마)로 구분하여 []로 감싼 자료구조\n",
        "\n",
        "---\n",
        "\n"
      ],
      "metadata": {
        "id": "e-gbzvCooqfR"
      }
    },
    {
      "cell_type": "code",
      "source": [
        "li1 = [1, 3, 5, 7, 9]\n",
        "print(li1)\n",
        "\n",
        "#list() 함수 사용\n",
        "li2 = list([1, 3, 5, 7, 9])\n",
        "print(li2)\n",
        "\n",
        "li3 = ['김나은', '김태희', '한가인', '전지현', '이영애']\n",
        "print(li3)\n",
        "\n",
        "li4 = [1, 1.5, '나냥이', True]\n",
        "print(li4)"
      ],
      "metadata": {
        "colab": {
          "base_uri": "https://localhost:8080/"
        },
        "id": "spmo8gsGoylm",
        "outputId": "eb3530c9-8307-45d8-dc45-dc1f3f72962c"
      },
      "execution_count": null,
      "outputs": [
        {
          "output_type": "stream",
          "name": "stdout",
          "text": [
            "[1, 3, 5, 7, 9]\n",
            "[1, 3, 5, 7, 9]\n",
            "['김나은', '김태희', '한가인', '전지현', '이영애']\n",
            "[1, 1.5, '나냥이']\n"
          ]
        }
      ]
    },
    {
      "cell_type": "markdown",
      "source": [
        "# **2. 리스트 인덱싱**"
      ],
      "metadata": {
        "id": "vdN_pRlqsIrm"
      }
    },
    {
      "cell_type": "code",
      "source": [
        "print(li1)\n",
        "print()\n",
        "print(li1[0])\n",
        "print(li1[-1])\n"
      ],
      "metadata": {
        "colab": {
          "base_uri": "https://localhost:8080/"
        },
        "id": "3rf4TTIssLZv",
        "outputId": "d95ea90e-6788-48f3-fcdc-9f71f3bf06f3"
      },
      "execution_count": null,
      "outputs": [
        {
          "output_type": "stream",
          "name": "stdout",
          "text": [
            "[1, 3, 5, 7, 9]\n",
            "\n",
            "1\n",
            "9\n"
          ]
        }
      ]
    },
    {
      "cell_type": "code",
      "source": [
        "li2 = ['김나은', '박수빈', '김은서' , ['😊','😍','😂','🤣']]\n",
        "print(li2[-1])\n",
        "print(li2[0])\n",
        "print(li2[-1][-1])"
      ],
      "metadata": {
        "colab": {
          "base_uri": "https://localhost:8080/"
        },
        "id": "3OlhG7iYtJJ3",
        "outputId": "4580aa67-ad96-488b-ed57-5b6e56371db3"
      },
      "execution_count": null,
      "outputs": [
        {
          "output_type": "stream",
          "name": "stdout",
          "text": [
            "['😊', '😍', '😂', '🤣']\n",
            "김나은\n"
          ]
        }
      ]
    },
    {
      "cell_type": "code",
      "source": [
        "li3 = [1, 3, 5, ['김나은', '류호근', '김재현', ['날', '떠', '나', '지', '마']]]\n",
        "print(li3[-1][-1][-3])\n",
        "# 나 뽑기"
      ],
      "metadata": {
        "colab": {
          "base_uri": "https://localhost:8080/"
        },
        "id": "03mfiDwhurrU",
        "outputId": "d7e842d1-bdb3-489d-82e0-41c92988db4f"
      },
      "execution_count": null,
      "outputs": [
        {
          "output_type": "stream",
          "name": "stdout",
          "text": [
            "나\n"
          ]
        }
      ]
    },
    {
      "cell_type": "markdown",
      "source": [
        "# **3. 리스트 슬라이싱**"
      ],
      "metadata": {
        "id": "i-3dA3x7vFdP"
      }
    },
    {
      "cell_type": "code",
      "source": [
        "li4 = [10, 20, 30, 40, 50]\n",
        "print(li4)\n",
        "print(type(li4))\n",
        "print(li4[0:3])\n",
        "\n",
        "#참고\n",
        "#print(type(str(li4))) #str으로 형변환\n",
        "#print(str(li4)[0]) #대괄호 까지 전부 문자로 취급.\n",
        "#print(str(li4).replace('[','']).replace(']',''))\n",
        "\n",
        "li5 =li4\n",
        "li5[0] = 100\n",
        "print(li5)\n",
        "\n",
        "li6 = [10, 20, 30, ['류호근', '김나은', '나냥이'], 40, ['❤️','👍']]\n",
        "print(li6)\n",
        "print(li6[2:6])"
      ],
      "metadata": {
        "colab": {
          "base_uri": "https://localhost:8080/"
        },
        "id": "hmwMDnftvHvk",
        "outputId": "bd736c2f-bc6a-4202-c547-fc1dbf0675fa"
      },
      "execution_count": 3,
      "outputs": [
        {
          "output_type": "stream",
          "name": "stdout",
          "text": [
            "[10, 20, 30, 40, 50]\n",
            "<class 'list'>\n",
            "[10, 20, 30]\n",
            "[100, 20, 30, 40, 50]\n",
            "[10, 20, 30, ['류호근', '김나은', '나냥이'], 40, ['❤️', '👍']]\n",
            "[30, ['류호근', '김나은', '나냥이'], 40, ['❤️', '👍']]\n"
          ]
        }
      ]
    },
    {
      "cell_type": "markdown",
      "source": [
        "# **4. 리스트 연산자**\n",
        "\n"
      ],
      "metadata": {
        "id": "7OzAWqEkvMRW"
      }
    },
    {
      "cell_type": "code",
      "source": [
        "li7 = [10, 20, 30]\n",
        "li8 = [40, 50, 60]\n",
        "\n",
        "print(li7 + li8)\n",
        "print(li8 + li7)\n",
        "\n",
        "#print(li7 - li8) # TypeError : unsupported operand type(s) for -: 'list' and 'list'\n",
        "#print(li7 * li8) # TypeError : can't multiply sequence by non-int of type 'list'\n",
        "#print(li7/ li8 ) # TypeError : unsupported operand type(s) for /: for : 'list' and 'list'\n",
        "\n",
        "\n",
        "print(li7 * 3)\n",
        "\n",
        "\n",
        "li9 = [10, 20, 30, '하핫']\n",
        "print(li9)\n",
        "print(li9[1] + li9[2]) # TypeError : can only concentenate str (not\"int\") to str\n",
        "print(li9[1])\n",
        "print(li9[3] * 3)"
      ],
      "metadata": {
        "id": "cTtTcTHHvL7n",
        "colab": {
          "base_uri": "https://localhost:8080/"
        },
        "outputId": "6e71d350-c5a5-4614-9883-fed0be7c0588"
      },
      "execution_count": 10,
      "outputs": [
        {
          "output_type": "stream",
          "name": "stdout",
          "text": [
            "[10, 20, 30, 40, 50, 60]\n",
            "[40, 50, 60, 10, 20, 30]\n",
            "[10, 20, 30, 10, 20, 30, 10, 20, 30]\n",
            "[10, 20, 30, '하핫']\n",
            "50\n",
            "20\n",
            "하핫하핫하핫\n"
          ]
        }
      ]
    },
    {
      "cell_type": "markdown",
      "source": [
        "5. 리스트의 수정/삭제"
      ],
      "metadata": {
        "id": "yEfYVGpEY8nE"
      }
    },
    {
      "cell_type": "code",
      "source": [
        "li10 = [10, 20, 30]\n",
        "print(li10)\n",
        "li10[1] = 100\n",
        "print(li10)\n",
        "\n",
        "#li10[1] # 코드셀 마지막에 넣으면 print 함수 없이도 출력이 되네 ?"
      ],
      "metadata": {
        "colab": {
          "base_uri": "https://localhost:8080/"
        },
        "id": "Ue5W7csGY_F8",
        "outputId": "c5f799ef-49e6-420c-f025-2603316973af"
      },
      "execution_count": 12,
      "outputs": [
        {
          "output_type": "stream",
          "name": "stdout",
          "text": [
            "[10, 20, 30]\n",
            "[10, 100, 30]\n"
          ]
        }
      ]
    },
    {
      "cell_type": "code",
      "source": [
        "# 슬라이싱을 사용해서 값을 수정할 때\n",
        "li10[1:2] = [55, 66, 77] # 슬라이싱을 이용하여 리스트 데이터를 추가한 경우 리스트에 데이터가 들어간다.\n",
        "print(li10)\n",
        "\n",
        "#인덱싱을 사용해서 값을 수정할 때\n",
        "li10 = [10, 20, 30]\n",
        "li10[1] = [55, 66, 77] # 인덱싱을 이용하여 리스트 데이터를 추가한 경우 리스트안에 리스트가 들어간다.\n",
        "print(li10)\n",
        "\n",
        "print(li10[0:3])\n",
        "#li10[1:3] = [] #빈 리스트를 저장 -> 삭제\n",
        "#print(li10)\n",
        "\n",
        "li10[2] = []\n",
        "print(li10)\n",
        "\n",
        "del li10[0:3]\n",
        "print(li10)"
      ],
      "metadata": {
        "colab": {
          "base_uri": "https://localhost:8080/"
        },
        "id": "6dzkW4AEZss_",
        "outputId": "4593eb76-cc76-41a0-f7c7-dbeabf801228"
      },
      "execution_count": 16,
      "outputs": [
        {
          "output_type": "stream",
          "name": "stdout",
          "text": [
            "[10, 55, 66, 77]\n",
            "[10, [55, 66, 77], 30]\n",
            "[10, [55, 66, 77], 30]\n",
            "[10, [55, 66, 77], []]\n",
            "[]\n"
          ]
        }
      ]
    },
    {
      "cell_type": "markdown",
      "source": [
        "# **6. 리스트 함수**"
      ],
      "metadata": {
        "id": "Z_yQURPwgXeo"
      }
    },
    {
      "cell_type": "markdown",
      "source": [],
      "metadata": {
        "id": "Yphim6N4gczA"
      }
    },
    {
      "cell_type": "code",
      "source": [
        "li11 = [10, 20, 30]\n",
        "print(li11)\n",
        "\n",
        "#li11[3] = 40 #IndexError\n",
        "\n",
        "#append() : 리스트 마지막 자리에 데이터를 추가\n",
        "li11.append(40)\n",
        "print(li11)\n",
        "\n",
        "li11.append([50, 60])\n",
        "print(li11)\n",
        "\n",
        "li11.append([70,80],90) #TypeError\n",
        "print(li11)"
      ],
      "metadata": {
        "colab": {
          "base_uri": "https://localhost:8080/"
        },
        "id": "B3uOJOUrgd-c",
        "outputId": "bbf7399f-fe95-40ca-d19d-2ae2f0651919"
      },
      "execution_count": 18,
      "outputs": [
        {
          "output_type": "stream",
          "name": "stdout",
          "text": [
            "[10, 20, 30]\n",
            "[10, 20, 30, 40]\n",
            "[10, 20, 30, 40, [50, 60]]\n"
          ]
        }
      ]
    },
    {
      "cell_type": "code",
      "source": [
        "li12 = [10, 20, 30 , 40 , 50]\n",
        "print(li12)\n",
        "\n",
        "#pop() : 리스트 마지막에 저장된 데이터를 반환하고 해당 데이터는 삭제\n",
        "# 매개변수로 인덱스를 전달하면 해당 인덱스의 데이터가 삭제.\n",
        "li12.pop()\n",
        "print(li12)\n",
        "temp = li12.pop()\n",
        "print(li12)\n",
        "print(temp)"
      ],
      "metadata": {
        "id": "VmH8r9LbihJz"
      },
      "execution_count": null,
      "outputs": []
    },
    {
      "cell_type": "code",
      "source": [
        "li13 = [10, 20, 30, 40, 50, 20, 40]\n",
        "\n",
        "#remove() : 매개변수로 전달된 데이터를 제거, 같은 데이터가 여러개 있는 경우 처음 출현하는 데이터를 삭제\n",
        "li13.remove(20)\n",
        "print(li13)\n",
        "\n",
        "li13.remove(20)\n",
        "print(li13)\n",
        "\n",
        "#li13.remove(20) #ValueError\n",
        "print(li13)"
      ],
      "metadata": {
        "colab": {
          "base_uri": "https://localhost:8080/"
        },
        "id": "sLEgHmB6ikQh",
        "outputId": "8857b072-1b5b-4cc2-b93c-b610a413896a"
      },
      "execution_count": 19,
      "outputs": [
        {
          "output_type": "stream",
          "name": "stdout",
          "text": [
            "[10, 30, 40, 50, 20, 40]\n",
            "[10, 30, 40, 50, 40]\n",
            "[10, 30, 40, 50, 40]\n"
          ]
        }
      ]
    },
    {
      "cell_type": "code",
      "source": [
        "li14 = [10, 20, 30]\n",
        "\n",
        "#insert() : 리스트의 특정 위치(인덱스)에 데이터를 삽입\n",
        "#li14.insert(100)  #ValueError\n",
        "print(li14)"
      ],
      "metadata": {
        "colab": {
          "base_uri": "https://localhost:8080/",
          "height": 182
        },
        "id": "fZSZ2hbgk5V_",
        "outputId": "e8b71641-003a-4392-cc60-3ae1374378c8"
      },
      "execution_count": 20,
      "outputs": [
        {
          "output_type": "error",
          "ename": "TypeError",
          "evalue": "insert expected 2 arguments, got 1",
          "traceback": [
            "\u001b[0;31m---------------------------------------------------------------------------\u001b[0m",
            "\u001b[0;31mTypeError\u001b[0m                                 Traceback (most recent call last)",
            "\u001b[0;32m/tmp/ipython-input-20-1373572398.py\u001b[0m in \u001b[0;36m<cell line: 0>\u001b[0;34m()\u001b[0m\n\u001b[1;32m      2\u001b[0m \u001b[0;34m\u001b[0m\u001b[0m\n\u001b[1;32m      3\u001b[0m \u001b[0;31m#insert() : 리스트의 특정 위치(인덱스)에 데이터를 삽입\u001b[0m\u001b[0;34m\u001b[0m\u001b[0;34m\u001b[0m\u001b[0m\n\u001b[0;32m----> 4\u001b[0;31m \u001b[0mli14\u001b[0m\u001b[0;34m.\u001b[0m\u001b[0minsert\u001b[0m\u001b[0;34m(\u001b[0m\u001b[0;36m100\u001b[0m\u001b[0;34m)\u001b[0m\u001b[0;34m\u001b[0m\u001b[0;34m\u001b[0m\u001b[0m\n\u001b[0m",
            "\u001b[0;31mTypeError\u001b[0m: insert expected 2 arguments, got 1"
          ]
        }
      ]
    },
    {
      "cell_type": "code",
      "source": [
        "li15 = [10, 20, 30]\n",
        "\n",
        "#index() :  리스트에 저장된 데이터가 있을 경우 위치를 인덱스로 반환(없으면 에러)\n",
        "print(li15.index(30))\n",
        "# print(li15.index(100)) #ValueError : 100 is not in list"
      ],
      "metadata": {
        "colab": {
          "base_uri": "https://localhost:8080/"
        },
        "id": "9EJ0ezu5lYac",
        "outputId": "fce6b954-8fdb-4ed7-d355-c48e171a7775"
      },
      "execution_count": 22,
      "outputs": [
        {
          "output_type": "stream",
          "name": "stdout",
          "text": [
            "2\n"
          ]
        }
      ]
    },
    {
      "cell_type": "code",
      "source": [
        "li16 = [45, 88, 66, 4, 23, 47]\n",
        "\n",
        "#reverse() : 리스트에 저장된 데이터를 반대 순서로 반환\n",
        "li16.reverse()\n",
        "print(li16)"
      ],
      "metadata": {
        "colab": {
          "base_uri": "https://localhost:8080/"
        },
        "id": "pTx85TpcmHCs",
        "outputId": "c2e18dfe-ee2e-499c-b383-aa22ed2dedfe"
      },
      "execution_count": 24,
      "outputs": [
        {
          "output_type": "stream",
          "name": "stdout",
          "text": [
            "[47, 23, 4, 66, 88, 45]\n"
          ]
        }
      ]
    },
    {
      "cell_type": "code",
      "source": [
        "li17 = [10, 40, 30, 100, 90, 50]\n",
        "\n",
        "#sort() : 리스트에 저장된 데이터를 오름차순, 내림차순으로 정렬\n",
        "li17.sort() # 오름차순\n",
        "print(li17)\n",
        "\n",
        "#sort(reverse = True) #내림차순\n",
        "li17.sort(reverse = True)\n",
        "print(li17)\n",
        "\n",
        "li18 = ['Apple', 'apple', 'orange', 'banana', 'grape']\n",
        "li18.sort(reverse = True)\n",
        "print(li18)\n",
        "\n",
        "\n",
        "li19 = ['김나은', '유혜원', '한소희', '조이현', '신세경']\n",
        "li19.sort()\n",
        "print(li19)"
      ],
      "metadata": {
        "colab": {
          "base_uri": "https://localhost:8080/"
        },
        "id": "MdjpDxA6nY1J",
        "outputId": "a1c70f60-cecd-4d33-e856-660264e0620d"
      },
      "execution_count": 26,
      "outputs": [
        {
          "output_type": "stream",
          "name": "stdout",
          "text": [
            "[10, 30, 40, 50, 90, 100]\n",
            "[100, 90, 50, 40, 30, 10]\n",
            "['orange', 'grape', 'banana', 'apple', 'Apple']\n",
            "['김나은', '신세경', '유혜원', '조이현', '한소희']\n"
          ]
        }
      ]
    },
    {
      "cell_type": "code",
      "source": [
        "li19 = [10, 20, 30, 50, 20, 40, 30, 20]\n",
        "\n",
        "#count() : 리스트에 포함된 특정 데이터의 갯수를 반환\n",
        "print(li19.count(20))\n",
        "print(li19.count(15))"
      ],
      "metadata": {
        "colab": {
          "base_uri": "https://localhost:8080/"
        },
        "id": "nzRevTvfof40",
        "outputId": "a4d54b9a-559c-493a-909d-403beb6645e1"
      },
      "execution_count": 27,
      "outputs": [
        {
          "output_type": "stream",
          "name": "stdout",
          "text": [
            "3\n",
            "0\n"
          ]
        }
      ]
    },
    {
      "cell_type": "code",
      "source": [
        "li20 = [1, 2, 3]\n",
        "\n",
        "#extend() : 리스트를 더함\n",
        "li20.extend([40,50])\n",
        "print(li20)\n",
        "\n",
        "li21 = [1,2,3]\n",
        "# li21 = li21 + [40, 50]\n",
        "li21 += [40, 50] #복합대입연산자\n",
        "print(li21)"
      ],
      "metadata": {
        "colab": {
          "base_uri": "https://localhost:8080/"
        },
        "id": "lM2WitkFo0w1",
        "outputId": "c9c175b1-76d6-4770-96f5-ca529aa1a7b9"
      },
      "execution_count": 28,
      "outputs": [
        {
          "output_type": "stream",
          "name": "stdout",
          "text": [
            "[1, 2, 3, 40, 50]\n",
            "[1, 2, 3, 40, 50]\n"
          ]
        }
      ]
    },
    {
      "cell_type": "code",
      "source": [
        "# len() : 요소의 갯수 변환\n",
        "print(len(li21))"
      ],
      "metadata": {
        "colab": {
          "base_uri": "https://localhost:8080/"
        },
        "id": "VhkqiGJEtkTl",
        "outputId": "5b80765c-99a7-486c-9cdf-e61ac9fc463d"
      },
      "execution_count": 29,
      "outputs": [
        {
          "output_type": "stream",
          "name": "stdout",
          "text": [
            "5\n"
          ]
        }
      ]
    }
  ]
}